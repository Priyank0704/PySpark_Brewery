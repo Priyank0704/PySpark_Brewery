{
 "cells": [
  {
   "cell_type": "code",
   "execution_count": 142,
   "id": "88036802-5c51-451c-bc51-d99715848bf7",
   "metadata": {},
   "outputs": [],
   "source": [
    "from pyspark.sql import SparkSession\n",
    "spark = SparkSession.builder.appName(\"brewery\").getOrCreate()\n",
    "from pyspark.sql.functions import col\n",
    "from pyspark.sql import functions as F\n",
    "import matplotlib.pyplot as plt\n",
    "from pyspark.sql.types import DecimalType\n"
   ]
  },
  {
   "cell_type": "code",
   "execution_count": 95,
   "id": "70107470-fc4f-438d-8127-9dfb0890ce83",
   "metadata": {},
   "outputs": [
    {
     "name": "stderr",
     "output_type": "stream",
     "text": [
      "                                                                                \r"
     ]
    }
   ],
   "source": [
    "# importing csv file exrtracted from hive using bucket\n",
    "path = 'gs://hive_final_project/final_beer_data00.csv'\n",
    "\n",
    "df1 = spark.read.csv(path, inferSchema = True, header = False)"
   ]
  },
  {
   "cell_type": "code",
   "execution_count": 96,
   "id": "6949f70a-671a-4ed3-ba84-861f18c8bfd6",
   "metadata": {},
   "outputs": [
    {
     "name": "stdout",
     "output_type": "stream",
     "text": [
      "root\n",
      " |-- _c0: integer (nullable = true)\n",
      " |-- _c1: timestamp (nullable = true)\n",
      " |-- _c2: string (nullable = true)\n",
      " |-- _c3: string (nullable = true)\n",
      " |-- _c4: string (nullable = true)\n",
      " |-- _c5: integer (nullable = true)\n",
      " |-- _c6: double (nullable = true)\n",
      " |-- _c7: double (nullable = true)\n",
      " |-- _c8: double (nullable = true)\n",
      " |-- _c9: double (nullable = true)\n",
      " |-- _c10: double (nullable = true)\n",
      " |-- _c11: double (nullable = true)\n",
      " |-- _c12: double (nullable = true)\n",
      "\n"
     ]
    }
   ],
   "source": [
    "df1.printSchema()"
   ]
  },
  {
   "cell_type": "code",
   "execution_count": null,
   "id": "b015d4e6-c0fb-4820-a75c-e6fd7e3591c2",
   "metadata": {},
   "outputs": [],
   "source": []
  },
  {
   "cell_type": "code",
   "execution_count": 97,
   "id": "d5bd3250-970a-4827-aa33-2812b4d99436",
   "metadata": {},
   "outputs": [
    {
     "name": "stderr",
     "output_type": "stream",
     "text": [
      "                                                                                \r"
     ]
    }
   ],
   "source": [
    "path = 'gs://hive_final_project/final_beer_data00.csv'\n",
    "\n",
    "df2 = spark.read.csv(path, inferSchema = True, header = False)"
   ]
  },
  {
   "cell_type": "code",
   "execution_count": 98,
   "id": "1cd91b88-3d7d-4f30-8f77-c477cd67035f",
   "metadata": {},
   "outputs": [
    {
     "name": "stderr",
     "output_type": "stream",
     "text": [
      "                                                                                \r"
     ]
    }
   ],
   "source": [
    "path = 'gs://hive_final_project/final_beer_data01.csv'\n",
    "\n",
    "df3 = spark.read.csv(path, inferSchema = True, header = False)"
   ]
  },
  {
   "cell_type": "code",
   "execution_count": 99,
   "id": "7fdd8997-8c5b-495a-9d1c-d5a00dfc742f",
   "metadata": {},
   "outputs": [
    {
     "name": "stderr",
     "output_type": "stream",
     "text": [
      "                                                                                \r"
     ]
    }
   ],
   "source": [
    "path = 'gs://hive_final_project/final_beer_data02.csv'\n",
    "\n",
    "df4 = spark.read.csv(path, inferSchema = True, header = False)"
   ]
  },
  {
   "cell_type": "code",
   "execution_count": 100,
   "id": "1f060aeb-8d42-4826-bbac-6a2337e6e88a",
   "metadata": {},
   "outputs": [
    {
     "name": "stderr",
     "output_type": "stream",
     "text": [
      "                                                                                \r"
     ]
    }
   ],
   "source": [
    "path = 'gs://hive_final_project/final_beer_data03.csv'\n",
    "\n",
    "df5 = spark.read.csv(path, inferSchema = True, header = False)"
   ]
  },
  {
   "cell_type": "code",
   "execution_count": 101,
   "id": "3739d6b7-2b01-4042-94f7-cb625d5a2ef3",
   "metadata": {},
   "outputs": [
    {
     "name": "stderr",
     "output_type": "stream",
     "text": [
      "                                                                                \r"
     ]
    }
   ],
   "source": [
    "path = 'gs://hive_final_project/final_beer_data04.csv'\n",
    "\n",
    "df6 = spark.read.csv(path, inferSchema = True, header = False)"
   ]
  },
  {
   "cell_type": "code",
   "execution_count": 102,
   "id": "5b9d8584-8796-4b6e-8cb4-ea81cd454d24",
   "metadata": {},
   "outputs": [
    {
     "name": "stderr",
     "output_type": "stream",
     "text": [
      "                                                                                \r"
     ]
    }
   ],
   "source": [
    "path = 'gs://hive_final_project/final_beer_data05.csv'\n",
    "\n",
    "df7 = spark.read.csv(path, inferSchema = True, header = False)"
   ]
  },
  {
   "cell_type": "code",
   "execution_count": 103,
   "id": "07c9f5f0-87d8-45e6-938e-dfc55e567069",
   "metadata": {},
   "outputs": [],
   "source": [
    "# concatinating all the dataframe to single dataframe for furthrer analysis\n",
    "df_beer = df1.union(df2).union(df3).union(df4).union(df5).union(df6).union(df7)"
   ]
  },
  {
   "cell_type": "code",
   "execution_count": 111,
   "id": "6411450d-b340-4d57-a5fe-d90ff5d46241",
   "metadata": {},
   "outputs": [
    {
     "name": "stdout",
     "output_type": "stream",
     "text": [
      "+-------+-------------------+----------+----+----------+----+------------------+----------------+-----------------+------------------+------------------+-----------------+------------------+\n",
      "|    _c0|                _c1|       _c2| _c3|       _c4| _c5|               _c6|             _c7|              _c8|               _c9|              _c10|             _c11|              _c12|\n",
      "+-------+-------------------+----------+----+----------+----+------------------+----------------+-----------------+------------------+------------------+-----------------+------------------+\n",
      "|7870796|2020-01-01 00:00:19|Wheat Beer|Kegs|Whitefield|4666|2664.7593448382822|8.57701633109399|89.19588216376087|4.1049876591878345|3.2354851724654683|4.663204448186049|12.003677279839351|\n",
      "+-------+-------------------+----------+----+----------+----+------------------+----------------+-----------------+------------------+------------------+-----------------+------------------+\n",
      "only showing top 1 row\n",
      "\n"
     ]
    }
   ],
   "source": [
    "df_beer.show(1)"
   ]
  },
  {
   "cell_type": "code",
   "execution_count": 112,
   "id": "4b3da38c-1ff9-4426-bf72-57abd414421a",
   "metadata": {},
   "outputs": [],
   "source": [
    "# adding header\n",
    "header_values = [\"Batch_ID\", \"Brew_Date\", \"Beer_Style\", \"SKU\", \"Location\", \"Volume_Produced\", \"Total_Sales\", \"Quality_Score\", \"Brewhouse_Efficiency\", \"Loss_During_Brewing\", \"Loss_During_Fermentation\", \"Loss_During_Bottling_Kegging\", \"Total_Loss\"] "
   ]
  },
  {
   "cell_type": "code",
   "execution_count": 113,
   "id": "b3797fa6-e5c7-4fae-bfe1-5e2af1d44c34",
   "metadata": {},
   "outputs": [],
   "source": [
    "for i, header in enumerate(header_values):\n",
    "    # withColumnRenamed is used to rename coilumn\n",
    "    df_beer = df_beer.withColumnRenamed(f\"_c{i}\", header)\n"
   ]
  },
  {
   "cell_type": "code",
   "execution_count": 114,
   "id": "687bac57-5ddb-4906-903c-26ac7206a8f8",
   "metadata": {},
   "outputs": [
    {
     "name": "stdout",
     "output_type": "stream",
     "text": [
      "+--------+-------------------+----------+----+----------+---------------+------------------+-----------------+--------------------+-------------------+------------------------+----------------------------+------------------+\n",
      "|Batch_ID|          Brew_Date|Beer_Style| SKU|  Location|Volume_Produced|       Total_Sales|    Quality_Score|Brewhouse_Efficiency|Loss_During_Brewing|Loss_During_Fermentation|Loss_During_Bottling_Kegging|        Total_Loss|\n",
      "+--------+-------------------+----------+----+----------+---------------+------------------+-----------------+--------------------+-------------------+------------------------+----------------------------+------------------+\n",
      "| 7870796|2020-01-01 00:00:19|Wheat Beer|Kegs|Whitefield|           4666|2664.7593448382822| 8.57701633109399|   89.19588216376087| 4.1049876591878345|      3.2354851724654683|           4.663204448186049|12.003677279839351|\n",
      "| 9810411|2020-01-01 00:00:31|      Sour|Kegs|Whitefield|            832| 9758.801062471319|7.420540752553908|    72.4809153900275| 2.6765280953921122|      4.2461292104108574|            2.04435836917023| 8.967015674973199|\n",
      "+--------+-------------------+----------+----+----------+---------------+------------------+-----------------+--------------------+-------------------+------------------------+----------------------------+------------------+\n",
      "only showing top 2 rows\n",
      "\n"
     ]
    }
   ],
   "source": [
    "df_beer.show(2)"
   ]
  },
  {
   "cell_type": "code",
   "execution_count": 115,
   "id": "1d22c766-effa-4929-8590-95125c4eb724",
   "metadata": {},
   "outputs": [
    {
     "name": "stdout",
     "output_type": "stream",
     "text": [
      "root\n",
      " |-- Batch_ID: integer (nullable = true)\n",
      " |-- Brew_Date: timestamp (nullable = true)\n",
      " |-- Beer_Style: string (nullable = true)\n",
      " |-- SKU: string (nullable = true)\n",
      " |-- Location: string (nullable = true)\n",
      " |-- Volume_Produced: integer (nullable = true)\n",
      " |-- Total_Sales: double (nullable = true)\n",
      " |-- Quality_Score: double (nullable = true)\n",
      " |-- Brewhouse_Efficiency: double (nullable = true)\n",
      " |-- Loss_During_Brewing: double (nullable = true)\n",
      " |-- Loss_During_Fermentation: double (nullable = true)\n",
      " |-- Loss_During_Bottling_Kegging: double (nullable = true)\n",
      " |-- Total_Loss: double (nullable = true)\n",
      "\n"
     ]
    }
   ],
   "source": [
    "# verifying updated header\n",
    "df_beer.printSchema()"
   ]
  },
  {
   "cell_type": "code",
   "execution_count": 122,
   "id": "5dc8b257-13a8-45b3-a743-b43c0530d316",
   "metadata": {},
   "outputs": [],
   "source": [
    "# calculationg average beer loss from differernt stage\n",
    "average_loss = df_beer.agg({'Loss_During_Brewing':'avg','Loss_During_Fermentation':'avg', 'Loss_During_Bottling_Kegging':'avg'})"
   ]
  },
  {
   "cell_type": "code",
   "execution_count": 124,
   "id": "3a8c2500-823f-4115-a508-5525d4eb6e28",
   "metadata": {},
   "outputs": [
    {
     "name": "stdout",
     "output_type": "stream",
     "text": [
      "Below table shows averages percentage of beer loss during brewing, fermentation and keeging bottle\n"
     ]
    },
    {
     "name": "stderr",
     "output_type": "stream",
     "text": [
      "[Stage 142:====================================================>  (18 + 1) / 19]\r"
     ]
    },
    {
     "name": "stdout",
     "output_type": "stream",
     "text": [
      "+------------------------+-----------------------------+---------------------------------+\n",
      "|avg(Loss_During_Brewing)|avg(Loss_During_Fermentation)|avg(Loss_During_Bottling_Kegging)|\n",
      "+------------------------+-----------------------------+---------------------------------+\n",
      "|      2.9998217022994766|           3.0000885273856563|               3.0000577513888165|\n",
      "+------------------------+-----------------------------+---------------------------------+\n",
      "\n"
     ]
    },
    {
     "name": "stderr",
     "output_type": "stream",
     "text": [
      "                                                                                \r"
     ]
    }
   ],
   "source": [
    "print(\"Below table shows averages percentage of beer loss during brewing, fermentation and keeging bottle\")\n",
    "average_loss.show()"
   ]
  },
  {
   "cell_type": "code",
   "execution_count": 131,
   "id": "ceecb312-7102-46c8-a488-2bcbd5510cdd",
   "metadata": {},
   "outputs": [
    {
     "data": {
      "image/png": "[encoded data removed]",
      "text/plain": [
       "<Figure size 640x480 with 1 Axes>"
      ]
     },
     "metadata": {},
     "output_type": "display_data"
    }
   ],
   "source": [
    "#collect is used to retrive whole reltaion (average_loss)\n",
    "# extracting data from 0th index which in this case is first row\n",
    "average_loss_collected = average_loss.collect()[0]\n",
    "\n",
    "# Extract the column names and corresponding average values\n",
    "# here .keys is used to fetch key from the dictionary which in this case is name of losses\n",
    "columns = list(average_loss_collected.asDict().keys())\n",
    "#.values is used to fetch values from the dictioary which in this case is integer/value of averages losses\n",
    "averages = list(average_loss_collected.asDict().values())\n",
    "\n",
    "# defining chart type here it is horizhontal bar graph\n",
    "plt.barh(columns, averages)\n",
    "# adding title to graph\n",
    "plt.title('Average Loss of beer during 3 differnt stages')\n",
    "# labeling axis\n",
    "plt.xlabel('Amount of percentage loss')\n",
    "plt.ylabel('Averages')\n",
    "plt.show()"
   ]
  },
  {
   "cell_type": "code",
   "execution_count": 152,
   "id": "983fd6e2-700e-492f-bc39-b5c0e06970e0",
   "metadata": {},
   "outputs": [],
   "source": [
    "#Converted total_sales to decimal type from double that has 12 digit and 2 digit after decimal point\n",
    "df_beer = df_beer.withColumn('Total_Sales', df_beer['Total_Sales'].cast(DecimalType(12, 2)))\n"
   ]
  },
  {
   "cell_type": "code",
   "execution_count": 153,
   "id": "2f87954b-6c98-4a46-9674-078328269cb0",
   "metadata": {},
   "outputs": [],
   "source": [
    "# finding total sales of each location\n",
    "location_sales = df_beer.groupBy('Location').agg({'Total_Sales':'sum'})"
   ]
  },
  {
   "cell_type": "code",
   "execution_count": 154,
   "id": "503b25b0-07ff-4b92-b5d7-b0e27dce4255",
   "metadata": {},
   "outputs": [
    {
     "name": "stderr",
     "output_type": "stream",
     "text": [
      "[Stage 176:=================================================>     (17 + 2) / 19]\r"
     ]
    },
    {
     "name": "stdout",
     "output_type": "stream",
     "text": [
      "+---------------+----------------+\n",
      "|       Location|sum(Total_Sales)|\n",
      "+---------------+----------------+\n",
      "|    Malleswaram|  10674491290.83|\n",
      "|    Indiranagar|  10664427253.09|\n",
      "|      Jayanagar|  10693192461.86|\n",
      "|Electronic City|  10659503629.29|\n",
      "|      Yelahanka|  10684308462.42|\n",
      "|    Rajajinagar|  10683740918.56|\n",
      "|    Koramangala|  10668282860.24|\n",
      "|     HSR Layout|  10687808054.19|\n",
      "|     Whitefield|  10675121146.17|\n",
      "|   Marathahalli|  10670651628.11|\n",
      "+---------------+----------------+\n",
      "\n"
     ]
    },
    {
     "name": "stderr",
     "output_type": "stream",
     "text": [
      "                                                                                \r"
     ]
    }
   ],
   "source": [
    "location_sales.show()"
   ]
  },
  {
   "cell_type": "code",
   "execution_count": 155,
   "id": "59493691-e0cb-4eb5-aae9-a737ec8e0129",
   "metadata": {},
   "outputs": [],
   "source": [
    "# finding total volume of beer produced by each location\n",
    "location_volume = df_beer.groupBy('Location').agg({'Volume_Produced':'sum'})"
   ]
  },
  {
   "cell_type": "code",
   "execution_count": 156,
   "id": "a0c9ef70-e300-489a-a124-f661f47e5d68",
   "metadata": {},
   "outputs": [
    {
     "name": "stderr",
     "output_type": "stream",
     "text": [
      "[Stage 179:====================================================>  (18 + 1) / 19]\r"
     ]
    },
    {
     "name": "stdout",
     "output_type": "stream",
     "text": [
      "+---------------+--------------------+\n",
      "|       Location|sum(Volume_Produced)|\n",
      "+---------------+--------------------+\n",
      "|    Indiranagar|          2795615365|\n",
      "|    Malleswaram|          2794354315|\n",
      "|      Jayanagar|          2800357447|\n",
      "|Electronic City|          2790809763|\n",
      "|      Yelahanka|          2798556872|\n",
      "|    Rajajinagar|          2796221532|\n",
      "|    Koramangala|          2794734563|\n",
      "|     HSR Layout|          2796345203|\n",
      "|     Whitefield|          2795661108|\n",
      "|   Marathahalli|          2794195724|\n",
      "+---------------+--------------------+\n",
      "\n"
     ]
    },
    {
     "name": "stderr",
     "output_type": "stream",
     "text": [
      "                                                                                \r"
     ]
    }
   ],
   "source": [
    "location_volume.show()"
   ]
  },
  {
   "cell_type": "code",
   "execution_count": 161,
   "id": "96c2af4b-c283-4743-a62a-c909f1c1d5b5",
   "metadata": {},
   "outputs": [],
   "source": [
    "# creating new column Ratio_sales_Volume to calculate ratio of total_sales to Volume_produced\n",
    "ratio = df_beer.withColumn('Ratio_sales_Volume', F.col('Total_Sales') / F.col('Volume_Produced'))"
   ]
  },
  {
   "cell_type": "code",
   "execution_count": 164,
   "id": "3bac3ec7-7000-43b9-90f3-075929d811d0",
   "metadata": {},
   "outputs": [],
   "source": [
    "ratio_sum = ratio.groupBy('Location').agg({'Ratio_sales_volume':'sum'})"
   ]
  },
  {
   "cell_type": "code",
   "execution_count": 165,
   "id": "675c04c0-a5d2-4238-a41b-14e4edd3b56b",
   "metadata": {},
   "outputs": [
    {
     "name": "stderr",
     "output_type": "stream",
     "text": [
      "[Stage 183:====================================================>  (18 + 1) / 19]\r"
     ]
    },
    {
     "name": "stdout",
     "output_type": "stream",
     "text": [
      "+---------------+-----------------------+\n",
      "|       Location|sum(Ratio_sales_volume)|\n",
      "+---------------+-----------------------+\n",
      "|    Malleswaram|   5467063.599013896...|\n",
      "|    Indiranagar|   5453074.096007006...|\n",
      "|      Jayanagar|   5476392.854612150...|\n",
      "|Electronic City|   5462801.548539145...|\n",
      "|      Yelahanka|   5464192.246188051...|\n",
      "|    Rajajinagar|   5471321.273216670...|\n",
      "|    Koramangala|   5454323.390795804...|\n",
      "|     HSR Layout|   5476069.583062455...|\n",
      "|     Whitefield|   5460265.125165878...|\n",
      "|   Marathahalli|   5462889.011970837...|\n",
      "+---------------+-----------------------+\n",
      "\n"
     ]
    },
    {
     "name": "stderr",
     "output_type": "stream",
     "text": [
      "                                                                                \r"
     ]
    }
   ],
   "source": [
    "ratio_sum.show()"
   ]
  },
  {
   "cell_type": "raw",
   "id": "9a6104cf-a256-48b4-a17e-63ecb154cbd0",
   "metadata": {},
   "source": []
  },
  {
   "cell_type": "code",
   "execution_count": 166,
   "id": "80ffa05b-108b-40e4-969a-3f8f946c9de1",
   "metadata": {},
   "outputs": [],
   "source": [
    "descendin_ratio = ratio_sum.orderBy(F.desc('sum(Ratio_sales_volume)'))\n"
   ]
  },
  {
   "cell_type": "code",
   "execution_count": 167,
   "id": "beb90e67-9bbc-4487-9db0-bd709a55c5e2",
   "metadata": {},
   "outputs": [],
   "source": [
    "top_5 = descendin_ratio.limit(5)"
   ]
  },
  {
   "cell_type": "code",
   "execution_count": 169,
   "id": "b879bf92-85e1-48b5-87b1-38f8890b583a",
   "metadata": {},
   "outputs": [
    {
     "name": "stderr",
     "output_type": "stream",
     "text": [
      "[Stage 186:====================================================>  (18 + 1) / 19]\r"
     ]
    },
    {
     "name": "stdout",
     "output_type": "stream",
     "text": [
      "+-----------+-----------------------+\n",
      "|   Location|sum(Ratio_sales_volume)|\n",
      "+-----------+-----------------------+\n",
      "|  Jayanagar|   5476392.854612150...|\n",
      "| HSR Layout|   5476069.583062455...|\n",
      "|Rajajinagar|   5471321.273216670...|\n",
      "|Malleswaram|   5467063.599013896...|\n",
      "|  Yelahanka|   5464192.246188051...|\n",
      "+-----------+-----------------------+\n",
      "\n"
     ]
    },
    {
     "name": "stderr",
     "output_type": "stream",
     "text": [
      "                                                                                \r"
     ]
    }
   ],
   "source": [
    "top_5.show()"
   ]
  },
  {
   "cell_type": "code",
   "execution_count": 172,
   "id": "dd73e593-cde0-4369-9191-ff0146410904",
   "metadata": {},
   "outputs": [],
   "source": [
    "# finding average quality score for each beer_style\n",
    "quality_score_avg = df_beer.groupBy('Beer_Style').agg({'Quality_Score':'avg'})"
   ]
  },
  {
   "cell_type": "code",
   "execution_count": 173,
   "id": "49a9ef08-5931-4a9f-80a1-077441a7f11a",
   "metadata": {},
   "outputs": [
    {
     "name": "stderr",
     "output_type": "stream",
     "text": [
      "[Stage 189:=================================================>     (17 + 2) / 19]\r"
     ]
    },
    {
     "name": "stdout",
     "output_type": "stream",
     "text": [
      "+----------+------------------+\n",
      "|Beer_Style|avg(Quality_Score)|\n",
      "+----------+------------------+\n",
      "|    Porter| 8.000309784008325|\n",
      "|      Sour| 8.000590239154757|\n",
      "|     Lager| 7.999750988299226|\n",
      "|Wheat Beer| 8.000242635505243|\n",
      "|   Pilsner|7.9981537664126385|\n",
      "|       Ale|7.9994311880062225|\n",
      "|     Stout|  7.99934783094765|\n",
      "|       IPA| 8.000416191622326|\n",
      "+----------+------------------+\n",
      "\n"
     ]
    },
    {
     "name": "stderr",
     "output_type": "stream",
     "text": [
      "                                                                                \r"
     ]
    }
   ],
   "source": [
    "quality_score_avg.show()"
   ]
  },
  {
   "cell_type": "code",
   "execution_count": 176,
   "id": "296de5b1-20b6-4b08-b44f-8eea25311970",
   "metadata": {},
   "outputs": [],
   "source": [
    "descending_quality = quality_score_avg.orderBy(F.desc('avg(Quality_Score)'))\n"
   ]
  },
  {
   "cell_type": "code",
   "execution_count": 180,
   "id": "045f39df-1bf5-42af-b2f0-ba5e95fc4a15",
   "metadata": {},
   "outputs": [],
   "source": [
    "top_3 = descending_quality.limit(3)"
   ]
  },
  {
   "cell_type": "code",
   "execution_count": 181,
   "id": "8f6cd0af-3e40-46ab-907c-135c4dd756a8",
   "metadata": {},
   "outputs": [
    {
     "name": "stderr",
     "output_type": "stream",
     "text": [
      "[Stage 195:=================================================>     (17 + 2) / 19]\r"
     ]
    },
    {
     "name": "stdout",
     "output_type": "stream",
     "text": [
      "+----------+------------------+\n",
      "|Beer_Style|avg(Quality_Score)|\n",
      "+----------+------------------+\n",
      "|      Sour| 8.000590239154759|\n",
      "|       IPA| 8.000416191622326|\n",
      "|    Porter| 8.000309784008323|\n",
      "+----------+------------------+\n",
      "\n"
     ]
    },
    {
     "name": "stderr",
     "output_type": "stream",
     "text": [
      "                                                                                \r"
     ]
    }
   ],
   "source": [
    "top_3.show()"
   ]
  },
  {
   "cell_type": "code",
   "execution_count": 182,
   "id": "c07d3c89-19f7-4fca-84c8-911d6882d002",
   "metadata": {},
   "outputs": [
    {
     "name": "stderr",
     "output_type": "stream",
     "text": [
      "                                                                                \r"
     ]
    }
   ],
   "source": [
    "# ploting bar chart for above result\n",
    "# using same logic as used before\n",
    "top_3_data = top_3.select('Beer_Style', 'avg(Quality_Score)').collect()\n"
   ]
  },
  {
   "cell_type": "code",
   "execution_count": 183,
   "id": "dc49a342-bb2e-49b3-ba30-13d001002759",
   "metadata": {},
   "outputs": [],
   "source": [
    "beer_styles = [row['Beer_Style'] for row in top_3_data]\n",
    "avg_quality_scores = [row['avg(Quality_Score)'] for row in top_3_data]\n"
   ]
  },
  {
   "cell_type": "code",
   "execution_count": 185,
   "id": "a93d5f9b-52c7-455e-9172-341026f27706",
   "metadata": {},
   "outputs": [
    {
     "data": {
      "image/png": "[encoded data removed]",
      "text/plain": [
       "<Figure size 640x480 with 1 Axes>"
      ]
     },
     "metadata": {},
     "output_type": "display_data"
    }
   ],
   "source": [
    "# definng specific colour to plot bars ini graph\n",
    "plt.bar(beer_styles, avg_quality_scores, color='brown')\n",
    "\n",
    "# labeling and adding title to graph\n",
    "plt.title('Top 3 Beer Styles by Aerage Quality Score')\n",
    "plt.xlabel('Beer Style')\n",
    "plt.ylabel('Aerage Quality Score')\n",
    "plt.show()"
   ]
  },
  {
   "cell_type": "code",
   "execution_count": null,
   "id": "2db265a9-4795-4256-9a2b-68b84a4bdac8",
   "metadata": {},
   "outputs": [],
   "source": []
  }
 ],
 "metadata": {
  "kernelspec": {
   "display_name": "Python 3 (ipykernel)",
   "language": "python",
   "name": "python3"
  },
  "language_info": {
   "codemirror_mode": {
    "name": "ipython",
    "version": 3
   },
   "file_extension": ".py",
   "mimetype": "text/x-python",
   "name": "python",
   "nbconvert_exporter": "python",
   "pygments_lexer": "ipython3",
   "version": "3.11.4"
  }
 },
 "nbformat": 4,
 "nbformat_minor": 5
}
